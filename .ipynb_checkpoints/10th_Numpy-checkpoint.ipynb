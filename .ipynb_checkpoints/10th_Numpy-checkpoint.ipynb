{
 "cells": [
  {
   "cell_type": "markdown",
   "metadata": {},
   "source": [
    "# I miss MATLAB for Matrices..."
   ]
  },
  {
   "cell_type": "markdown",
   "metadata": {},
   "source": [
    "## Basic"
   ]
  },
  {
   "cell_type": "code",
   "execution_count": 1,
   "metadata": {},
   "outputs": [],
   "source": [
    "import numpy as np\n",
    "import matplotlib.pyplot as plt"
   ]
  },
  {
   "cell_type": "code",
   "execution_count": 2,
   "metadata": {},
   "outputs": [
    {
     "data": {
      "text/plain": [
       "array([[8, 0, 0],\n",
       "       [0, 0, 0]])"
      ]
     },
     "execution_count": 2,
     "metadata": {},
     "output_type": "execute_result"
    }
   ],
   "source": [
    "np.empty([2,3], dtype='int')"
   ]
  },
  {
   "cell_type": "code",
   "execution_count": 3,
   "metadata": {},
   "outputs": [
    {
     "data": {
      "text/plain": [
       "array([[0., 0., 0.],\n",
       "       [0., 0., 0.]])"
      ]
     },
     "execution_count": 3,
     "metadata": {},
     "output_type": "execute_result"
    }
   ],
   "source": [
    "np.zeros([2,3])"
   ]
  },
  {
   "cell_type": "code",
   "execution_count": 4,
   "metadata": {},
   "outputs": [
    {
     "data": {
      "text/plain": [
       "array([0., 2., 4., 6., 8.])"
      ]
     },
     "execution_count": 4,
     "metadata": {},
     "output_type": "execute_result"
    }
   ],
   "source": [
    "np.arange(0,10,2, dtype='float64')"
   ]
  },
  {
   "cell_type": "code",
   "execution_count": 5,
   "metadata": {
    "scrolled": true
   },
   "outputs": [
    {
     "data": {
      "text/plain": [
       "array([ 0.,  2.,  4.,  6.,  8., 10.])"
      ]
     },
     "execution_count": 5,
     "metadata": {},
     "output_type": "execute_result"
    }
   ],
   "source": [
    "np.linspace(0,10,6, dtype=float)"
   ]
  },
  {
   "cell_type": "code",
   "execution_count": 7,
   "metadata": {},
   "outputs": [
    {
     "data": {
      "text/plain": [
       "array([ 0. ,  2.5,  5. ,  7.5, 10. ])"
      ]
     },
     "execution_count": 7,
     "metadata": {},
     "output_type": "execute_result"
    }
   ],
   "source": [
    "np.linspace(0,10,5, dtype=float)"
   ]
  },
  {
   "cell_type": "code",
   "execution_count": 9,
   "metadata": {},
   "outputs": [
    {
     "data": {
      "text/plain": [
       "array([ 0.        ,  1.66666667,  3.33333333,  5.        ,  6.66666667,\n",
       "        8.33333333, 10.        ])"
      ]
     },
     "execution_count": 9,
     "metadata": {},
     "output_type": "execute_result"
    }
   ],
   "source": [
    "np.linspace(0,10,7, dtype=float)"
   ]
  },
  {
   "cell_type": "code",
   "execution_count": 12,
   "metadata": {},
   "outputs": [
    {
     "name": "stdout",
     "output_type": "stream",
     "text": [
      "([1, 2, 3], [4, 5, 6])\n"
     ]
    },
    {
     "data": {
      "text/plain": [
       "tuple"
      ]
     },
     "execution_count": 12,
     "metadata": {},
     "output_type": "execute_result"
    }
   ],
   "source": [
    "a = [1,2,3],[4,5,6]\n",
    "print(a)\n",
    "type(a)"
   ]
  },
  {
   "cell_type": "code",
   "execution_count": 14,
   "metadata": {},
   "outputs": [
    {
     "name": "stdout",
     "output_type": "stream",
     "text": [
      "[[1, 2, 3], [4, 5, 6]]\n"
     ]
    },
    {
     "data": {
      "text/plain": [
       "list"
      ]
     },
     "execution_count": 14,
     "metadata": {},
     "output_type": "execute_result"
    }
   ],
   "source": [
    "b = [[1,2,3],[4,5,6]]\n",
    "print(b)\n",
    "type(b)"
   ]
  },
  {
   "cell_type": "code",
   "execution_count": 17,
   "metadata": {},
   "outputs": [
    {
     "name": "stdout",
     "output_type": "stream",
     "text": [
      "[[1 2 3]\n",
      " [4 5 6]]\n"
     ]
    },
    {
     "data": {
      "text/plain": [
       "numpy.ndarray"
      ]
     },
     "execution_count": 17,
     "metadata": {},
     "output_type": "execute_result"
    }
   ],
   "source": [
    "X = np.array([[1,2,3],[4,5,6]])\n",
    "print(X)\n",
    "type(X)"
   ]
  },
  {
   "cell_type": "code",
   "execution_count": 18,
   "metadata": {},
   "outputs": [
    {
     "data": {
      "text/plain": [
       "array([[1., 2., 3.],\n",
       "       [4., 5., 6.]])"
      ]
     },
     "execution_count": 18,
     "metadata": {},
     "output_type": "execute_result"
    }
   ],
   "source": [
    "X.astype(np.float64)"
   ]
  },
  {
   "cell_type": "code",
   "execution_count": 19,
   "metadata": {},
   "outputs": [
    {
     "data": {
      "text/plain": [
       "array([[0, 0, 0],\n",
       "       [0, 0, 0]])"
      ]
     },
     "execution_count": 19,
     "metadata": {},
     "output_type": "execute_result"
    }
   ],
   "source": [
    "np.zeros_like(X)"
   ]
  },
  {
   "cell_type": "markdown",
   "metadata": {},
   "source": [
    "# Parameters:\t\n",
    "loc : float\n",
    "\n",
    "Mean (“centre”) of the distribution.\n",
    "\n",
    "scale : float\n",
    "\n",
    "Standard deviation (spread or “width”) of the distribution.\n",
    "\n",
    "size : int or tuple of ints, optional\n",
    "\n",
    "Output shape. If the given shape is, e.g., (m, n, k), then m * n * k samples are drawn. Default is None, in which case a single value is returned."
   ]
  },
  {
   "cell_type": "code",
   "execution_count": 20,
   "metadata": {},
   "outputs": [
    {
     "name": "stdout",
     "output_type": "stream",
     "text": [
      "[-1.09531276  0.82348265 -0.29811811 -1.50769456  1.66060272  0.0280354\n",
      " -0.05623214 -1.49808416  0.2969703   0.45742021  1.19785091 -0.93256205\n",
      " -0.9166771   0.32801076 -2.00751539 -0.00654666  1.35597175  0.65114535\n",
      "  0.02221925  0.13058364 -1.0618529   0.67163049  1.92463886 -0.34324262\n",
      "  0.21962211 -0.10881332 -1.40573653  1.07052585  0.0959307   0.32928472\n",
      "  2.0064229   0.35967518  0.92865969 -1.0503306  -1.93957265 -0.09841773\n",
      " -0.16563699 -0.42138236  1.82490748  1.54872311  0.99627118 -0.30790145\n",
      " -2.68860553  1.81992771  0.42517804  0.6098306  -0.22631772  0.66491682\n",
      "  0.30580343 -1.66118565 -1.41346417  0.97751566 -0.96628569 -1.5688506\n",
      "  0.28399348 -0.10312738  2.44760648 -1.22465816 -1.45030971 -1.09418796\n",
      " -1.18023637 -0.4551479  -0.47147652 -0.0285025  -0.11627748  1.16760748\n",
      "  2.30969501 -1.51544336  1.38957095  1.29027911 -0.8005892  -0.59131659\n",
      " -0.22964427 -0.46184609 -0.88237426  1.1318221   0.68756542  0.07520183\n",
      " -2.55698404 -1.09067893 -1.21548259 -1.59784987  0.06595618 -0.801172\n",
      " -0.85397516  1.49984266  0.70818194 -0.19942922 -0.22362096 -0.80681798\n",
      " -0.93617495  0.50268115  0.52518723 -1.12213432 -0.54148418 -1.30021557\n",
      "  0.19327756 -0.16652879  0.23702052  0.59512405]\n"
     ]
    },
    {
     "data": {
      "image/png": "[encoded data removed]",
      "text/plain": [
       "<Figure size 432x288 with 1 Axes>"
      ]
     },
     "metadata": {
      "needs_background": "light"
     },
     "output_type": "display_data"
    }
   ],
   "source": [
    "data = np.random.normal(0,1, 100)\n",
    "# numpy.random.normal(loc=0.0, scale=1.0, size=None)\n",
    "print(data)\n",
    "plt.hist(data, bins=10)\n",
    "plt.show()"
   ]
  },
  {
   "cell_type": "markdown",
   "metadata": {},
   "source": [
    "## Manipulation"
   ]
  },
  {
   "cell_type": "code",
   "execution_count": 24,
   "metadata": {},
   "outputs": [
    {
     "name": "stdout",
     "output_type": "stream",
     "text": [
      "[[[1. 1. 1. 1. 1. 1. 1. 1.]\n",
      "  [1. 1. 1. 1. 1. 1. 1. 1.]\n",
      "  [1. 1. 1. 1. 1. 1. 1. 1.]\n",
      "  [1. 1. 1. 1. 1. 1. 1. 1.]]\n",
      "\n",
      " [[1. 1. 1. 1. 1. 1. 1. 1.]\n",
      "  [1. 1. 1. 1. 1. 1. 1. 1.]\n",
      "  [1. 1. 1. 1. 1. 1. 1. 1.]\n",
      "  [1. 1. 1. 1. 1. 1. 1. 1.]]]\n",
      "[[[0. 0. 0. 0. 0. 0.]\n",
      "  [0. 0. 0. 0. 0. 0.]\n",
      "  [0. 0. 0. 0. 0. 0.]\n",
      "  [0. 0. 0. 0. 0. 0.]]\n",
      "\n",
      " [[0. 0. 0. 0. 0. 0.]\n",
      "  [0. 0. 0. 0. 0. 0.]\n",
      "  [0. 0. 0. 0. 0. 0.]\n",
      "  [0. 0. 0. 0. 0. 0.]]]\n"
     ]
    }
   ],
   "source": [
    "X = np.ones([2, 4, 8]); Y = np.zeros([2,4,6]);\n",
    "print(X)\n",
    "print(Y)\n",
    "# what is each input asking? e.g. what should be in the input for the given output?\n",
    "# what is the amount of total numbers?"
   ]
  },
  {
   "cell_type": "code",
   "execution_count": 40,
   "metadata": {
    "scrolled": true
   },
   "outputs": [
    {
     "name": "stdout",
     "output_type": "stream",
     "text": [
      "[[[1. 1. 1. 1. 1. 1. 1. 1.]\n",
      "  [1. 1. 1. 1. 1. 1. 1. 1.]]\n",
      "\n",
      " [[1. 1. 1. 1. 1. 1. 1. 1.]\n",
      "  [1. 1. 1. 1. 1. 1. 1. 1.]]\n",
      "\n",
      " [[1. 1. 1. 1. 1. 1. 1. 1.]\n",
      "  [1. 1. 1. 1. 1. 1. 1. 1.]]\n",
      "\n",
      " [[1. 1. 1. 1. 1. 1. 1. 1.]\n",
      "  [1. 1. 1. 1. 1. 1. 1. 1.]]]\n",
      "[[1. 1. 1. 1. 1. 1. 1. 1.]\n",
      " [1. 1. 1. 1. 1. 1. 1. 1.]\n",
      " [1. 1. 1. 1. 1. 1. 1. 1.]\n",
      " [1. 1. 1. 1. 1. 1. 1. 1.]\n",
      " [1. 1. 1. 1. 1. 1. 1. 1.]\n",
      " [1. 1. 1. 1. 1. 1. 1. 1.]\n",
      " [1. 1. 1. 1. 1. 1. 1. 1.]\n",
      " [1. 1. 1. 1. 1. 1. 1. 1.]]\n",
      "[[[1. 1. 1. 1. 1. 1. 1. 1. 1. 1. 1. 1. 1. 1. 1. 1.]\n",
      "  [1. 1. 1. 1. 1. 1. 1. 1. 1. 1. 1. 1. 1. 1. 1. 1.]]\n",
      "\n",
      " [[1. 1. 1. 1. 1. 1. 1. 1. 1. 1. 1. 1. 1. 1. 1. 1.]\n",
      "  [1. 1. 1. 1. 1. 1. 1. 1. 1. 1. 1. 1. 1. 1. 1. 1.]]]\n",
      "[[[1. 1. 1. 1. 1. 1. 1. 1. 1. 1. 1. 1. 1. 1. 1. 1.]\n",
      "  [1. 1. 1. 1. 1. 1. 1. 1. 1. 1. 1. 1. 1. 1. 1. 1.]\n",
      "  [1. 1. 1. 1. 1. 1. 1. 1. 1. 1. 1. 1. 1. 1. 1. 1.]\n",
      "  [1. 1. 1. 1. 1. 1. 1. 1. 1. 1. 1. 1. 1. 1. 1. 1.]]]\n",
      "[[[[[[1.]]]\n",
      "\n",
      "\n",
      "   [[[1.]]]\n",
      "\n",
      "\n",
      "   [[[1.]]]\n",
      "\n",
      "\n",
      "   [[[1.]]]]\n",
      "\n",
      "\n",
      "\n",
      "  [[[[1.]]]\n",
      "\n",
      "\n",
      "   [[[1.]]]\n",
      "\n",
      "\n",
      "   [[[1.]]]\n",
      "\n",
      "\n",
      "   [[[1.]]]]\n",
      "\n",
      "\n",
      "\n",
      "  [[[[1.]]]\n",
      "\n",
      "\n",
      "   [[[1.]]]\n",
      "\n",
      "\n",
      "   [[[1.]]]\n",
      "\n",
      "\n",
      "   [[[1.]]]]\n",
      "\n",
      "\n",
      "\n",
      "  [[[[1.]]]\n",
      "\n",
      "\n",
      "   [[[1.]]]\n",
      "\n",
      "\n",
      "   [[[1.]]]\n",
      "\n",
      "\n",
      "   [[[1.]]]]]\n",
      "\n",
      "\n",
      "\n",
      "\n",
      " [[[[[1.]]]\n",
      "\n",
      "\n",
      "   [[[1.]]]\n",
      "\n",
      "\n",
      "   [[[1.]]]\n",
      "\n",
      "\n",
      "   [[[1.]]]]\n",
      "\n",
      "\n",
      "\n",
      "  [[[[1.]]]\n",
      "\n",
      "\n",
      "   [[[1.]]]\n",
      "\n",
      "\n",
      "   [[[1.]]]\n",
      "\n",
      "\n",
      "   [[[1.]]]]\n",
      "\n",
      "\n",
      "\n",
      "  [[[[1.]]]\n",
      "\n",
      "\n",
      "   [[[1.]]]\n",
      "\n",
      "\n",
      "   [[[1.]]]\n",
      "\n",
      "\n",
      "   [[[1.]]]]\n",
      "\n",
      "\n",
      "\n",
      "  [[[[1.]]]\n",
      "\n",
      "\n",
      "   [[[1.]]]\n",
      "\n",
      "\n",
      "   [[[1.]]]\n",
      "\n",
      "\n",
      "   [[[1.]]]]]\n",
      "\n",
      "\n",
      "\n",
      "\n",
      " [[[[[1.]]]\n",
      "\n",
      "\n",
      "   [[[1.]]]\n",
      "\n",
      "\n",
      "   [[[1.]]]\n",
      "\n",
      "\n",
      "   [[[1.]]]]\n",
      "\n",
      "\n",
      "\n",
      "  [[[[1.]]]\n",
      "\n",
      "\n",
      "   [[[1.]]]\n",
      "\n",
      "\n",
      "   [[[1.]]]\n",
      "\n",
      "\n",
      "   [[[1.]]]]\n",
      "\n",
      "\n",
      "\n",
      "  [[[[1.]]]\n",
      "\n",
      "\n",
      "   [[[1.]]]\n",
      "\n",
      "\n",
      "   [[[1.]]]\n",
      "\n",
      "\n",
      "   [[[1.]]]]\n",
      "\n",
      "\n",
      "\n",
      "  [[[[1.]]]\n",
      "\n",
      "\n",
      "   [[[1.]]]\n",
      "\n",
      "\n",
      "   [[[1.]]]\n",
      "\n",
      "\n",
      "   [[[1.]]]]]\n",
      "\n",
      "\n",
      "\n",
      "\n",
      " [[[[[1.]]]\n",
      "\n",
      "\n",
      "   [[[1.]]]\n",
      "\n",
      "\n",
      "   [[[1.]]]\n",
      "\n",
      "\n",
      "   [[[1.]]]]\n",
      "\n",
      "\n",
      "\n",
      "  [[[[1.]]]\n",
      "\n",
      "\n",
      "   [[[1.]]]\n",
      "\n",
      "\n",
      "   [[[1.]]]\n",
      "\n",
      "\n",
      "   [[[1.]]]]\n",
      "\n",
      "\n",
      "\n",
      "  [[[[1.]]]\n",
      "\n",
      "\n",
      "   [[[1.]]]\n",
      "\n",
      "\n",
      "   [[[1.]]]\n",
      "\n",
      "\n",
      "   [[[1.]]]]\n",
      "\n",
      "\n",
      "\n",
      "  [[[[1.]]]\n",
      "\n",
      "\n",
      "   [[[1.]]]\n",
      "\n",
      "\n",
      "   [[[1.]]]\n",
      "\n",
      "\n",
      "   [[[1.]]]]]]\n"
     ]
    }
   ],
   "source": [
    "A = X.reshape(4,2,8)\n",
    "print(A)\n",
    "\n",
    "B = X.reshape(8,8)\n",
    "print(B)\n",
    "\n",
    "C = X.reshape(2,2,-1) # -1 : unidentified (autmoatically calculates)\n",
    "print(C)\n",
    "\n",
    "Z = X.reshape(-1, 4, 16)\n",
    "print(Z)\n",
    "\n",
    "Y = X.reshape(4,4,4,1,1,1) # 100 dimension is possible but wouldn't do that \n",
    "print(Y)"
   ]
  },
  {
   "cell_type": "code",
   "execution_count": 41,
   "metadata": {},
   "outputs": [
    {
     "data": {
      "text/plain": [
       "array([[[1., 1.],\n",
       "        [1., 1.],\n",
       "        [1., 1.],\n",
       "        [1., 1.]],\n",
       "\n",
       "       [[1., 1.],\n",
       "        [1., 1.],\n",
       "        [1., 1.],\n",
       "        [1., 1.]],\n",
       "\n",
       "       [[1., 1.],\n",
       "        [1., 1.],\n",
       "        [1., 1.],\n",
       "        [1., 1.]],\n",
       "\n",
       "       [[1., 1.],\n",
       "        [1., 1.],\n",
       "        [1., 1.],\n",
       "        [1., 1.]],\n",
       "\n",
       "       [[1., 1.],\n",
       "        [1., 1.],\n",
       "        [1., 1.],\n",
       "        [1., 1.]],\n",
       "\n",
       "       [[1., 1.],\n",
       "        [1., 1.],\n",
       "        [1., 1.],\n",
       "        [1., 1.]],\n",
       "\n",
       "       [[1., 1.],\n",
       "        [1., 1.],\n",
       "        [1., 1.],\n",
       "        [1., 1.]],\n",
       "\n",
       "       [[1., 1.],\n",
       "        [1., 1.],\n",
       "        [1., 1.],\n",
       "        [1., 1.]]])"
      ]
     },
     "execution_count": 41,
     "metadata": {},
     "output_type": "execute_result"
    }
   ],
   "source": [
    "Y = X.reshape(-1, 4, 2)\n",
    "Y"
   ]
  },
  {
   "cell_type": "code",
   "execution_count": 42,
   "metadata": {},
   "outputs": [
    {
     "data": {
      "text/plain": [
       "True"
      ]
     },
     "execution_count": 42,
     "metadata": {},
     "output_type": "execute_result"
    }
   ],
   "source": [
    "#assert np.allclose(X.reshape(-1, 3, 2), Y)\n",
    "np.allclose(X.reshape(-1, 4, 2), Y)"
   ]
  },
  {
   "cell_type": "markdown",
   "metadata": {},
   "source": [
    "# Numpy I/O"
   ]
  },
  {
   "cell_type": "code",
   "execution_count": 46,
   "metadata": {},
   "outputs": [
    {
     "name": "stdout",
     "output_type": "stream",
     "text": [
      "[[0 3 5]\n",
      " [6 8 5]]\n",
      "[[0.39489328 0.13607556 0.66129568]\n",
      " [0.64408722 0.72346509 0.7463095 ]]\n"
     ]
    }
   ],
   "source": [
    "a = np.random.randint(0, 10, [2, 3])\n",
    "b = np.random.random([2, 3])\n",
    "np.savez(\"test\", a, b)\n",
    "print(a); print(b)"
   ]
  },
  {
   "cell_type": "code",
   "execution_count": 47,
   "metadata": {},
   "outputs": [
    {
     "name": "stdout",
     "output_type": "stream",
     "text": [
      "-rw-r--r--  1 EddieGHWon  staff  562  4 23 03:11 test.npz\n",
      "\u001b[31m06_01.txt\u001b[m\u001b[m                               9th_extract_Info.ipynb\n",
      "10th_Numpy.ipynb                        README.md\n",
      "11th_Sound.ipynb                        \u001b[31mTransferFunction.pdf\u001b[m\u001b[m\n",
      "1st_variables.ipynb                     \u001b[31m[Day2]Vector_management.pdf\u001b[m\u001b[m\n",
      "2nd_string.ipynb                        crawling.csv\n",
      "3rd_more_syntax with for loops.ipynb    crawlingKoreaPas.csv\n",
      "4th_crawling.ipynb                      image.png\n",
      "5th_crawling_Extract_practiceOnly.ipynb \u001b[34mnotusing\u001b[m\u001b[m\n",
      "6th_NLP.ipynb                           \u001b[31mregression.csv\u001b[m\u001b[m\n",
      "7th_normalization.ipynb                 \u001b[31mregression_saved.csv\u001b[m\u001b[m\n",
      "8th_regexp.ipynb                        test.npz\n"
     ]
    }
   ],
   "source": [
    "!ls -al test* # load linux code outside python, !\n",
    "!ls"
   ]
  },
  {
   "cell_type": "code",
   "execution_count": 48,
   "metadata": {},
   "outputs": [
    {
     "name": "stdout",
     "output_type": "stream",
     "text": [
      "A\t B\t C\t X\t Y\t Z\t a\t b\t data\t \n",
      "np\t plt\t \n",
      "Variable   Type       Data/Info\n",
      "-------------------------------\n",
      "A          ndarray    4x2x8: 64 elems, type `float64`, 512 bytes\n",
      "B          ndarray    8x8: 64 elems, type `float64`, 512 bytes\n",
      "C          ndarray    2x2x16: 64 elems, type `float64`, 512 bytes\n",
      "X          ndarray    2x4x8: 64 elems, type `float64`, 512 bytes\n",
      "Y          ndarray    8x4x2: 64 elems, type `float64`, 512 bytes\n",
      "Z          ndarray    1x4x16: 64 elems, type `float64`, 512 bytes\n",
      "a          ndarray    2x3: 6 elems, type `int64`, 48 bytes\n",
      "b          ndarray    2x3: 6 elems, type `float64`, 48 bytes\n",
      "data       ndarray    100: 100 elems, type `float64`, 800 bytes\n",
      "np         module     <module 'numpy' from '/Us<...>kages/numpy/__init__.py'>\n",
      "plt        module     <module 'matplotlib.pyplo<...>es/matplotlib/pyplot.py'>\n"
     ]
    }
   ],
   "source": [
    "# Below prints all interactive variables\n",
    "%who \n",
    "%whos"
   ]
  },
  {
   "cell_type": "code",
   "execution_count": 49,
   "metadata": {},
   "outputs": [
    {
     "name": "stdout",
     "output_type": "stream",
     "text": [
      "A\t B\t C\t X\t Y\t Z\t data\t np\t plt\t \n",
      "\n"
     ]
    }
   ],
   "source": [
    "del a, b\n",
    "%who"
   ]
  },
  {
   "cell_type": "code",
   "execution_count": 50,
   "metadata": {},
   "outputs": [
    {
     "name": "stdout",
     "output_type": "stream",
     "text": [
      "Variable   Type       Data/Info\n",
      "-------------------------------\n",
      "A          ndarray    4x2x8: 64 elems, type `float64`, 512 bytes\n",
      "B          ndarray    8x8: 64 elems, type `float64`, 512 bytes\n",
      "C          ndarray    2x2x16: 64 elems, type `float64`, 512 bytes\n",
      "X          ndarray    2x4x8: 64 elems, type `float64`, 512 bytes\n",
      "Y          ndarray    8x4x2: 64 elems, type `float64`, 512 bytes\n",
      "Z          ndarray    1x4x16: 64 elems, type `float64`, 512 bytes\n",
      "data       ndarray    100: 100 elems, type `float64`, 800 bytes\n",
      "np         module     <module 'numpy' from '/Us<...>kages/numpy/__init__.py'>\n",
      "plt        module     <module 'matplotlib.pyplo<...>es/matplotlib/pyplot.py'>\n"
     ]
    }
   ],
   "source": [
    "%whos"
   ]
  },
  {
   "cell_type": "code",
   "execution_count": 51,
   "metadata": {},
   "outputs": [
    {
     "data": {
      "text/plain": [
       "['arr_0', 'arr_1']"
      ]
     },
     "execution_count": 51,
     "metadata": {},
     "output_type": "execute_result"
    }
   ],
   "source": [
    "npzfiles = np.load(\"test.npz\")\n",
    "npzfiles.files"
   ]
  },
  {
   "cell_type": "code",
   "execution_count": 52,
   "metadata": {},
   "outputs": [
    {
     "data": {
      "text/plain": [
       "array([[0.39489328, 0.13607556, 0.66129568],\n",
       "       [0.64408722, 0.72346509, 0.7463095 ]])"
      ]
     },
     "execution_count": 52,
     "metadata": {},
     "output_type": "execute_result"
    }
   ],
   "source": [
    "npzfiles['arr_0']\n",
    "npzfiles['arr_1']"
   ]
  },
  {
   "cell_type": "code",
   "execution_count": 53,
   "metadata": {},
   "outputs": [
    {
     "data": {
      "text/plain": [
       "array([( 3.3  , 1.7  ), ( 4.4  , 2.76 ), ( 5.5  , 2.09 ), ( 6.71 , 3.19 ),\n",
       "       ( 6.93 , 1.694), ( 4.168, 1.573), ( 9.779, 3.366), ( 6.182, 2.596),\n",
       "       ( 7.59 , 2.53 ), ( 2.167, 1.221), ( 7.042, 2.827), (10.791, 3.465),\n",
       "       ( 5.313, 1.65 ), ( 7.997, 2.904), ( 5.654, 2.42 ), ( 9.27 , 2.94 ),\n",
       "       ( 3.1  , 1.3  )], dtype=[('X', '<f4'), ('Y', '<f4')])"
      ]
     },
     "execution_count": 53,
     "metadata": {},
     "output_type": "execute_result"
    }
   ],
   "source": [
    "data = np.loadtxt(\"regression.csv\", delimiter=\",\", skiprows=1, dtype={'names':(\"X\", \"Y\"), 'formats':('f', 'f')})\n",
    "data"
   ]
  },
  {
   "cell_type": "code",
   "execution_count": 54,
   "metadata": {},
   "outputs": [
    {
     "data": {
      "text/plain": [
       "(17,)"
      ]
     },
     "execution_count": 54,
     "metadata": {},
     "output_type": "execute_result"
    }
   ],
   "source": [
    "data.shape"
   ]
  },
  {
   "cell_type": "code",
   "execution_count": 55,
   "metadata": {},
   "outputs": [
    {
     "name": "stdout",
     "output_type": "stream",
     "text": [
      "-rwxrwxrwx@ 1 EddieGHWon  staff  850  4 23 03:12 \u001b[31mregression_saved.csv\u001b[m\u001b[m\r\n"
     ]
    }
   ],
   "source": [
    "np.savetxt(\"regression_saved.csv\", data, delimiter=\",\")\n",
    "!ls -al regression_saved.csv"
   ]
  },
  {
   "cell_type": "markdown",
   "metadata": {},
   "source": [
    "## Inspecting"
   ]
  },
  {
   "cell_type": "code",
   "execution_count": 56,
   "metadata": {},
   "outputs": [],
   "source": [
    "arr = np.random.random([5,2,3])"
   ]
  },
  {
   "cell_type": "code",
   "execution_count": 57,
   "metadata": {},
   "outputs": [
    {
     "data": {
      "text/plain": [
       "array([[[0.39483087, 0.94784521, 0.79665748],\n",
       "        [0.21909245, 0.62310741, 0.5004788 ]],\n",
       "\n",
       "       [[0.10366388, 0.02789107, 0.84550486],\n",
       "        [0.92942439, 0.55854746, 0.79716582]],\n",
       "\n",
       "       [[0.64509142, 0.81641606, 0.84687193],\n",
       "        [0.97870372, 0.8236398 , 0.83111652]],\n",
       "\n",
       "       [[0.35714952, 0.3139489 , 0.77983554],\n",
       "        [0.89217929, 0.31659653, 0.94089412]],\n",
       "\n",
       "       [[0.72933144, 0.45678961, 0.06924949],\n",
       "        [0.79581055, 0.03110657, 0.7199579 ]]])"
      ]
     },
     "execution_count": 57,
     "metadata": {},
     "output_type": "execute_result"
    }
   ],
   "source": [
    "arr"
   ]
  },
  {
   "cell_type": "code",
   "execution_count": 58,
   "metadata": {},
   "outputs": [
    {
     "name": "stdout",
     "output_type": "stream",
     "text": [
      "<class 'numpy.ndarray'>\n",
      "5\n",
      "(5, 2, 3)\n",
      "3\n",
      "30\n",
      "float64\n"
     ]
    }
   ],
   "source": [
    "print(type(arr))\n",
    "print(len(arr))\n",
    "print(arr.shape)\n",
    "print(arr.ndim)\n",
    "print(arr.size)\n",
    "print(arr.dtype)"
   ]
  },
  {
   "cell_type": "markdown",
   "metadata": {},
   "source": [
    "## Operations"
   ]
  },
  {
   "cell_type": "markdown",
   "metadata": {},
   "source": [
    "### - Arithmetic"
   ]
  },
  {
   "cell_type": "code",
   "execution_count": 64,
   "metadata": {},
   "outputs": [
    {
     "data": {
      "text/plain": [
       "(array([1, 2, 3, 4]),\n",
       " array([2, 3, 4, 5, 6]),\n",
       " array([9., 8., 7., 6.]),\n",
       " array([9, 8, 7, 6]),\n",
       " array([9., 8., 7., 6.]),\n",
       " array([9. , 6.9]))"
      ]
     },
     "execution_count": 64,
     "metadata": {},
     "output_type": "execute_result"
    }
   ],
   "source": [
    "a = np.arange(1, 5) #what does this function do?\n",
    "aa = np.arange(2,7)\n",
    "b = np.arange(9, 5.1, -1)\n",
    "bb = np.arange(9, 5, -1)\n",
    "c = np.arange(9, 5.2, -1)\n",
    "d = np.arange(9, 5, -2.1)\n",
    "a,aa, b,bb, c,d # array ~= matrice"
   ]
  },
  {
   "cell_type": "code",
   "execution_count": 65,
   "metadata": {},
   "outputs": [
    {
     "name": "stdout",
     "output_type": "stream",
     "text": [
      "[-8. -6. -4. -2.]\n",
      "[ 9. 16. 21. 24.]\n"
     ]
    }
   ],
   "source": [
    "print(a - b)\n",
    "print(a * b)\n"
   ]
  },
  {
   "cell_type": "code",
   "execution_count": 66,
   "metadata": {},
   "outputs": [],
   "source": [
    "a = np.matrix(a)\n",
    "b = np.matrix(b)"
   ]
  },
  {
   "cell_type": "code",
   "execution_count": 69,
   "metadata": {},
   "outputs": [
    {
     "data": {
      "text/plain": [
       "matrix([[70.]])"
      ]
     },
     "execution_count": 69,
     "metadata": {},
     "output_type": "execute_result"
    }
   ],
   "source": [
    "a * b.T"
   ]
  },
  {
   "cell_type": "code",
   "execution_count": 70,
   "metadata": {},
   "outputs": [
    {
     "data": {
      "text/plain": [
       "matrix([[ 9.,  8.,  7.,  6.],\n",
       "        [18., 16., 14., 12.],\n",
       "        [27., 24., 21., 18.],\n",
       "        [36., 32., 28., 24.]])"
      ]
     },
     "execution_count": 70,
     "metadata": {},
     "output_type": "execute_result"
    }
   ],
   "source": [
    "a.T * b"
   ]
  },
  {
   "cell_type": "markdown",
   "metadata": {},
   "source": [
    "### - Comparison"
   ]
  },
  {
   "cell_type": "code",
   "execution_count": 71,
   "metadata": {},
   "outputs": [
    {
     "name": "stdout",
     "output_type": "stream",
     "text": [
      "[[1 2 3]\n",
      " [4 5 6]\n",
      " [7 8 9]]\n",
      "[[9 8 7]\n",
      " [6 5 4]\n",
      " [3 2 1]]\n"
     ]
    },
    {
     "data": {
      "text/plain": [
       "(array([[1, 2, 3],\n",
       "        [4, 5, 6],\n",
       "        [7, 8, 9]]), array([[9, 8, 7],\n",
       "        [6, 5, 4],\n",
       "        [3, 2, 1]]))"
      ]
     },
     "execution_count": 71,
     "metadata": {},
     "output_type": "execute_result"
    }
   ],
   "source": [
    "a = np.arange(1, 10).reshape(3,3)\n",
    "b = np.arange(9, 0, -1).reshape(3,3)\n",
    "print(a)\n",
    "print(b)\n",
    "a,b"
   ]
  },
  {
   "cell_type": "code",
   "execution_count": 72,
   "metadata": {},
   "outputs": [
    {
     "data": {
      "text/plain": [
       "array([[False, False, False],\n",
       "       [False,  True, False],\n",
       "       [False, False, False]])"
      ]
     },
     "execution_count": 72,
     "metadata": {},
     "output_type": "execute_result"
    }
   ],
   "source": [
    "a == b"
   ]
  },
  {
   "cell_type": "code",
   "execution_count": 73,
   "metadata": {},
   "outputs": [
    {
     "data": {
      "text/plain": [
       "array([[False, False, False],\n",
       "       [False, False,  True],\n",
       "       [ True,  True,  True]])"
      ]
     },
     "execution_count": 73,
     "metadata": {},
     "output_type": "execute_result"
    }
   ],
   "source": [
    "a > b"
   ]
  },
  {
   "cell_type": "markdown",
   "metadata": {},
   "source": [
    "### - Aggregate (sum, min, max, mean, median, std)"
   ]
  },
  {
   "cell_type": "code",
   "execution_count": 74,
   "metadata": {},
   "outputs": [
    {
     "data": {
      "text/plain": [
       "(45, 45)"
      ]
     },
     "execution_count": 74,
     "metadata": {},
     "output_type": "execute_result"
    }
   ],
   "source": [
    "a.sum(), np.sum(a)"
   ]
  },
  {
   "cell_type": "code",
   "execution_count": 75,
   "metadata": {},
   "outputs": [
    {
     "data": {
      "text/plain": [
       "(array([12, 15, 18]), array([12, 15, 18]))"
      ]
     },
     "execution_count": 75,
     "metadata": {},
     "output_type": "execute_result"
    }
   ],
   "source": [
    "a.sum(axis=0), np.sum(a, axis=0)"
   ]
  },
  {
   "cell_type": "code",
   "execution_count": 76,
   "metadata": {},
   "outputs": [
    {
     "data": {
      "text/plain": [
       "(array([ 6, 15, 24]), array([ 6, 15, 24]))"
      ]
     },
     "execution_count": 76,
     "metadata": {},
     "output_type": "execute_result"
    }
   ],
   "source": [
    "a.sum(axis=1), np.sum(a, axis=1)"
   ]
  },
  {
   "cell_type": "markdown",
   "metadata": {},
   "source": [
    "## Broadcasting"
   ]
  },
  {
   "cell_type": "code",
   "execution_count": 77,
   "metadata": {},
   "outputs": [
    {
     "data": {
      "text/plain": [
       "array([[ 1,  2,  3,  4,  5,  6],\n",
       "       [ 7,  8,  9, 10, 11, 12],\n",
       "       [13, 14, 15, 16, 17, 18],\n",
       "       [19, 20, 21, 22, 23, 24]])"
      ]
     },
     "execution_count": 77,
     "metadata": {},
     "output_type": "execute_result"
    }
   ],
   "source": [
    "a = np.arange(1, 25).reshape(4, 6)\n",
    "a"
   ]
  },
  {
   "cell_type": "code",
   "execution_count": 78,
   "metadata": {},
   "outputs": [
    {
     "data": {
      "text/plain": [
       "array([[101, 102, 103, 104, 105, 106],\n",
       "       [107, 108, 109, 110, 111, 112],\n",
       "       [113, 114, 115, 116, 117, 118],\n",
       "       [119, 120, 121, 122, 123, 124]])"
      ]
     },
     "execution_count": 78,
     "metadata": {},
     "output_type": "execute_result"
    }
   ],
   "source": [
    "a + 100"
   ]
  },
  {
   "cell_type": "code",
   "execution_count": 79,
   "metadata": {},
   "outputs": [
    {
     "data": {
      "text/plain": [
       "array([0, 1, 2, 3, 4, 5])"
      ]
     },
     "execution_count": 79,
     "metadata": {},
     "output_type": "execute_result"
    }
   ],
   "source": [
    "b = np.arange(6)\n",
    "b"
   ]
  },
  {
   "cell_type": "code",
   "execution_count": 80,
   "metadata": {},
   "outputs": [
    {
     "data": {
      "text/plain": [
       "array([[ 1,  3,  5,  7,  9, 11],\n",
       "       [ 7,  9, 11, 13, 15, 17],\n",
       "       [13, 15, 17, 19, 21, 23],\n",
       "       [19, 21, 23, 25, 27, 29]])"
      ]
     },
     "execution_count": 80,
     "metadata": {},
     "output_type": "execute_result"
    }
   ],
   "source": [
    "a + b # it works since it's not matrix"
   ]
  },
  {
   "cell_type": "code",
   "execution_count": 81,
   "metadata": {},
   "outputs": [
    {
     "data": {
      "text/plain": [
       "array([[0],\n",
       "       [1],\n",
       "       [2],\n",
       "       [3]])"
      ]
     },
     "execution_count": 81,
     "metadata": {},
     "output_type": "execute_result"
    }
   ],
   "source": [
    "c = np.arange(4).reshape([4,1])\n",
    "c"
   ]
  },
  {
   "cell_type": "code",
   "execution_count": 82,
   "metadata": {},
   "outputs": [
    {
     "data": {
      "text/plain": [
       "array([[ 1,  2,  3,  4,  5,  6],\n",
       "       [ 8,  9, 10, 11, 12, 13],\n",
       "       [15, 16, 17, 18, 19, 20],\n",
       "       [22, 23, 24, 25, 26, 27]])"
      ]
     },
     "execution_count": 82,
     "metadata": {},
     "output_type": "execute_result"
    }
   ],
   "source": [
    "a + c"
   ]
  }
 ],
 "metadata": {
  "kernelspec": {
   "display_name": "Python 3",
   "language": "python",
   "name": "python3"
  },
  "language_info": {
   "codemirror_mode": {
    "name": "ipython",
    "version": 3
   },
   "file_extension": ".py",
   "mimetype": "text/x-python",
   "name": "python",
   "nbconvert_exporter": "python",
   "pygments_lexer": "ipython3",
   "version": "3.7.1"
  }
 },
 "nbformat": 4,
 "nbformat_minor": 2
}
